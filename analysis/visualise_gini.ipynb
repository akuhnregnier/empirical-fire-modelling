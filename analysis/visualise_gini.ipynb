{
 "cells": [
  {
   "cell_type": "code",
   "execution_count": null,
   "metadata": {},
   "outputs": [],
   "source": [
    "%run model_fitting.py local"
   ]
  },
  {
   "cell_type": "code",
   "execution_count": null,
   "metadata": {},
   "outputs": [],
   "source": [
    "import pandas as pd\n",
    "import seaborn as sns\n",
    "\n",
    "from empirical_fire_modelling.utils import tqdm"
   ]
  },
  {
   "cell_type": "code",
   "execution_count": null,
   "metadata": {},
   "outputs": [],
   "source": [
    "gini_dfs = {}\n",
    "for exp, rf in models.items():\n",
    "    X_train, X_test, y_train, y_test = get_experiment_split_data(exp)\n",
    "\n",
    "    ind_trees_gini = pd.DataFrame(\n",
    "        [tree.feature_importances_ for tree in rf],\n",
    "        columns=X_train.columns,\n",
    "    )\n",
    "    mean_importances = ind_trees_gini.mean().sort_values(ascending=False)\n",
    "\n",
    "    ind_trees_gini = ind_trees_gini.reindex(mean_importances.index, axis=1)\n",
    "    gini_dfs[exp] = ind_trees_gini"
   ]
  },
  {
   "cell_type": "code",
   "execution_count": null,
   "metadata": {},
   "outputs": [],
   "source": [
    "def gini_plot(exp, df):\n",
    "    fig, ax = plt.subplots(1, 1, figsize=(6 * df.shape[1] / 15, 3))\n",
    "    sns.boxplot(data=df, ax=ax)\n",
    "    ax.set(title=exp, ylabel=\"Gini Importance (MSE)\\n\")\n",
    "    _ = plt.setp(ax.xaxis.get_majorticklabels(), rotation=45, ha=\"right\")"
   ]
  },
  {
   "cell_type": "code",
   "execution_count": null,
   "metadata": {},
   "outputs": [],
   "source": [
    "for exp, df in tqdm(gini_dfs.items()):\n",
    "    gini_plot(exp.name, df)"
   ]
  }
 ],
 "metadata": {
  "kernelspec": {
   "display_name": "Python [conda env:wildfires] *",
   "language": "python",
   "name": "conda-env-wildfires-py"
  }
 },
 "nbformat": 4,
 "nbformat_minor": 4
}
