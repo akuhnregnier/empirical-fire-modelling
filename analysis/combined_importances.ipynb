{
 "cells": [
  {
   "cell_type": "code",
   "execution_count": null,
   "metadata": {},
   "outputs": [],
   "source": [
    "# %run model_fitting.py --experiment ALL --experiment ALL_NN --experiment CURR --experiment 15VEG_FAPAR local\n",
    "# %run calculate_pfi.py --experiment ALL --experiment ALL_NN --experiment CURR --experiment 15VEG_FAPAR local\n",
    "# %run calculate_loco_values.py --experiment ALL --experiment ALL_NN --experiment CURR --experiment 15VEG_FAPAR local\n",
    "# %run calculate_shap_values.py --experiment ALL --experiment ALL_NN --experiment CURR --experiment 15VEG_FAPAR local"
   ]
  },
  {
   "cell_type": "code",
   "execution_count": null,
   "metadata": {},
   "outputs": [],
   "source": [
    "%run model_fitting.py --experiment CLIM local\n",
    "%run calculate_pfi.py --experiment CLIM local\n",
    "%run calculate_loco_values.py --experiment CLIM local\n",
    "%run calculate_shap_values.py --experiment CLIM local"
   ]
  },
  {
   "cell_type": "code",
   "execution_count": null,
   "metadata": {},
   "outputs": [],
   "source": [
    "import gc\n",
    "import string\n",
    "from collections import defaultdict\n",
    "from copy import deepcopy\n",
    "from enum import Enum\n",
    "\n",
    "import matplotlib.pyplot as plt\n",
    "import pandas as pd\n",
    "from IPython.core.display import HTML, display\n",
    "\n",
    "from empirical_fire_modelling import variable\n",
    "from empirical_fire_modelling.model import get_gini_importances\n",
    "from empirical_fire_modelling.plotting import figure_saver\n",
    "from empirical_fire_modelling.utils import tqdm, transform_series_sum_norm"
   ]
  },
  {
   "cell_type": "code",
   "execution_count": null,
   "metadata": {},
   "outputs": [],
   "source": [
    "gini_importances = {}\n",
    "for exp, rf in tqdm(models.items(), desc=\"Gini\"):\n",
    "    X_train, X_test, y_train, y_test = get_experiment_split_data(exp)\n",
    "    mean_importances, std_importances = get_gini_importances(X_train, y_train)\n",
    "    gini_importances[exp] = pd.DataFrame(\n",
    "        {\"mean GINI\": mean_importances, \"std GINI\": std_importances}\n",
    "    )\n",
    "    gc.collect()"
   ]
  },
  {
   "cell_type": "code",
   "execution_count": null,
   "metadata": {},
   "outputs": [],
   "source": [
    "Metric = Enum(\"Metric\", [\"GINI\", \"SHAP\", \"PFI\", \"LOCO\"])"
   ]
  },
  {
   "cell_type": "code",
   "execution_count": null,
   "metadata": {},
   "outputs": [],
   "source": [
    "importance_data = {\n",
    "    Metric.GINI: gini_importances,\n",
    "    Metric.SHAP: shap_importances,\n",
    "    Metric.PFI: pfi_importances,\n",
    "    Metric.LOCO: loco_importances,\n",
    "}\n",
    "importance_keys = {\n",
    "    Metric.GINI: \"mean GINI\",\n",
    "    Metric.SHAP: \"test mean SHAP\",\n",
    "    Metric.PFI: \"test weight\",\n",
    "    Metric.LOCO: \"test score\",\n",
    "}\n",
    "std_keys = {\n",
    "    Metric.GINI: \"std GINI\",\n",
    "    Metric.SHAP: \"test std SHAP\",\n",
    "    Metric.PFI: \"test std\",\n",
    "    # Note absence of LOCO std.\n",
    "}"
   ]
  },
  {
   "cell_type": "code",
   "execution_count": null,
   "metadata": {},
   "outputs": [],
   "source": [
    "combined_data = {}\n",
    "plot_data = defaultdict(dict)\n",
    "\n",
    "for exp in tqdm(models, desc=\"Experiment\"):\n",
    "    transformed_importances = {}\n",
    "    transformed_importances_std = {}\n",
    "\n",
    "    # Calculation. Sort according to combined metric after normalisation.\n",
    "    combined = None\n",
    "    for importance_metric in Metric:\n",
    "        if importance_metric in std_keys:\n",
    "            importance_s, importance_std_s = transform_series_sum_norm(\n",
    "                x=importance_data[importance_metric][exp][\n",
    "                    importance_keys[importance_metric]\n",
    "                ],\n",
    "                y=importance_data[importance_metric][exp][std_keys[importance_metric]],\n",
    "            )\n",
    "        else:\n",
    "            importance_s = transform_series_sum_norm(\n",
    "                x=importance_data[importance_metric][exp][\n",
    "                    importance_keys[importance_metric]\n",
    "                ]\n",
    "            )\n",
    "            importance_std_s = None\n",
    "\n",
    "        transformed_importances[importance_metric] = importance_s\n",
    "        transformed_importances_std[importance_metric] = importance_std_s\n",
    "\n",
    "        if combined is None:\n",
    "            combined = importance_s.copy()\n",
    "        else:\n",
    "            combined += importance_s\n",
    "    combined.sort_values(ascending=False, inplace=True)\n",
    "\n",
    "    transformed_importances = pd.DataFrame(transformed_importances).reindex(\n",
    "        combined.index, axis=0\n",
    "    )\n",
    "\n",
    "    combined.name = f\"{exp.name} (combined)\"\n",
    "    combined_data[exp] = combined.copy()\n",
    "\n",
    "    # Plotting.\n",
    "    for importance_metric in Metric:\n",
    "        transformed = transformed_importances[importance_metric]\n",
    "        transformed.index = transformed.copy().index.map(str)\n",
    "\n",
    "        if transformed_importances_std[importance_metric] is not None:\n",
    "            transformed_std = transformed_importances_std[importance_metric].reindex(\n",
    "                combined.index, axis=0\n",
    "            )\n",
    "            transformed_std.index = transformed_std.copy().index.map(str)\n",
    "        else:\n",
    "            transformed_std = None\n",
    "\n",
    "        plot_data[exp][importance_metric.name] = {\n",
    "            \"mean\": transformed,\n",
    "            \"std\": transformed_std,\n",
    "        }"
   ]
  },
  {
   "cell_type": "code",
   "execution_count": null,
   "metadata": {},
   "outputs": [],
   "source": [
    "for exp, metric_data in plot_data.items():\n",
    "    plt.figure(figsize=(8 * importance_data[Metric.GINI][exp].shape[0] / 15, 5))\n",
    "    plt.title(exp.name)\n",
    "    for metric_name, transformed in metric_data.items():\n",
    "        plt.plot(transformed[\"mean\"], label=metric_name)\n",
    "        if transformed[\"std\"] is not None:\n",
    "            # Add shaded region to illustrate the std.\n",
    "            plt.fill_between(\n",
    "                transformed[\"mean\"].index,\n",
    "                transformed[\"mean\"] - transformed[\"std\"],\n",
    "                transformed[\"mean\"] + transformed[\"std\"],\n",
    "                label=f\"{metric_name} std\",\n",
    "                alpha=0.1,\n",
    "            )\n",
    "        _ = plt.setp(plt.gca().xaxis.get_majorticklabels(), rotation=45, ha=\"right\")\n",
    "    plt.legend()"
   ]
  },
  {
   "cell_type": "code",
   "execution_count": null,
   "metadata": {},
   "outputs": [],
   "source": [
    "for combined in combined_data.values():\n",
    "    print(combined)\n",
    "    print()"
   ]
  },
  {
   "cell_type": "code",
   "execution_count": null,
   "metadata": {},
   "outputs": [],
   "source": [
    "def get_html_rep(data, name):\n",
    "    data = list(data)\n",
    "    return pd.DataFrame(\n",
    "        list(map(str, data)), columns=[name], index=list(range(1, len(data) + 1))\n",
    "    )._repr_html_()"
   ]
  },
  {
   "cell_type": "code",
   "execution_count": null,
   "metadata": {},
   "outputs": [],
   "source": [
    "print_data = []\n",
    "for exp, combined in combined_data.items():\n",
    "    veg_mask = np.array(\n",
    "        [\n",
    "            variable.match_factory(\n",
    "                var, variable.feature_categories[variable.Category.VEGETATION]\n",
    "            )\n",
    "            for var in combined.index\n",
    "        ]\n",
    "    )\n",
    "    print_data.append(\n",
    "        f\"\"\"<h1>{exp.name}</h1>\n",
    "        <h2>Top 15</h2>\n",
    "        {get_html_rep(combined.index[:15], 'Top 15')}\n",
    "        <h2>Veg Features</h2>\n",
    "        {get_html_rep(combined.index[veg_mask], 'Veg')}\n",
    "        <h2>Non-Veg Features</h2>\n",
    "        {get_html_rep(combined.index[~veg_mask], 'Non-Veg')}\n",
    "        <h2>Top 10 Non-Veg features</h2>\n",
    "        {get_html_rep(combined.index[~veg_mask][:10], 'Top 10 Non-Veg')}\"\"\"\n",
    "    )\n",
    "display(HTML(\"\".join(print_data)))"
   ]
  },
  {
   "cell_type": "markdown",
   "metadata": {},
   "source": [
    "### Comparative plotting of importances"
   ]
  },
  {
   "cell_type": "code",
   "execution_count": null,
   "metadata": {},
   "outputs": [],
   "source": [
    "fig, axes = plt.subplots(3, 1, figsize=(5, 7.8))\n",
    "\n",
    "for exp, ax, title in zip(\n",
    "    [\n",
    "        Experiment.ALL,\n",
    "        Experiment.ALL_NN,\n",
    "        Experiment[\"15VEG_FAPAR\"],\n",
    "    ],\n",
    "    axes,\n",
    "    string.ascii_lowercase,\n",
    "):\n",
    "    metric_data = plot_data[exp]\n",
    "    ax.set_title(f\"({title}) {exp.name}\")\n",
    "    for metric_name, transformed in metric_data.items():\n",
    "        ax.plot(\n",
    "            list(\n",
    "                map(lambda s: shorten_features(str(s)), transformed[\"mean\"].index[:15])\n",
    "            ),\n",
    "            transformed[\"mean\"][:15].values,\n",
    "            label=(metric_name if ax is axes[0] else None),\n",
    "        )\n",
    "        if transformed[\"std\"] is not None:\n",
    "            # Add shaded region to illustrate the std.\n",
    "            ax.fill_between(\n",
    "                list(\n",
    "                    map(\n",
    "                        lambda s: shorten_features(str(s)),\n",
    "                        transformed[\"mean\"].index[:15],\n",
    "                    )\n",
    "                ),\n",
    "                (transformed[\"mean\"] - transformed[\"std\"])[:15],\n",
    "                (transformed[\"mean\"] + transformed[\"std\"])[:15],\n",
    "                # label=f\"{metric_name} std\",\n",
    "                alpha=0.1,\n",
    "            )\n",
    "        _ = plt.setp(ax.xaxis.get_majorticklabels(), rotation=34, ha=\"right\")\n",
    "\n",
    "    if ax is axes[0]:\n",
    "        ax.legend()\n",
    "\n",
    "    ax.set_ylabel(\"Importance\")\n",
    "    ax.set_xlim(-0.15, 14.15)\n",
    "\n",
    "fig.subplots_adjust(hspace=0.45)\n",
    "fig.align_labels()\n",
    "\n",
    "figure_saver.save_figure(fig, \"model_comp_importances\")"
   ]
  },
  {
   "cell_type": "code",
   "execution_count": null,
   "metadata": {},
   "outputs": [],
   "source": [
    "fig, axes = plt.subplots(4, 1, figsize=(8.15, 8))\n",
    "\n",
    "exp = Experiment.ALL\n",
    "\n",
    "metric_data = plot_data[exp]\n",
    "\n",
    "for (ax, (metric_name, transformed)) in zip(axes, metric_data.items()):\n",
    "    ax.set_title(f\"{metric_name}\")\n",
    "\n",
    "    sorted_transformed = deepcopy(transformed)[\"mean\"].sort_values(ascending=False)\n",
    "\n",
    "    ax.plot(\n",
    "        list(map(lambda s: shorten_features(str(s)), sorted_transformed.index)),\n",
    "        sorted_transformed.values,\n",
    "        label=(metric_name if ax is axes[0] else None),\n",
    "    )\n",
    "\n",
    "    if transformed[\"std\"] is not None:\n",
    "        sorted_std = deepcopy(transformed[\"std\"]).reindex(sorted_transformed.index)\n",
    "\n",
    "        # Add shaded region to illustrate the std.\n",
    "        ax.fill_between(\n",
    "            list(map(lambda s: shorten_features(str(s)), sorted_transformed.index)),\n",
    "            (sorted_transformed - sorted_std),\n",
    "            (sorted_transformed + sorted_std),\n",
    "            # label=f\"{metric_name} std\",\n",
    "            alpha=0.1,\n",
    "        )\n",
    "    _ = plt.setp(ax.xaxis.get_majorticklabels(), rotation=52, ha=\"right\")\n",
    "\n",
    "    ax.set_ylabel(\"Importance\")\n",
    "    ax.set_xlim(-0.15, 49.15)\n",
    "    ax.set_ylim(ax.get_ylim())\n",
    "    ax.vlines(14, *ax.get_ylim(), linestyle=\"--\", color=\"C3\")\n",
    "\n",
    "fig.subplots_adjust(hspace=0.95)\n",
    "fig.align_labels()\n",
    "\n",
    "figure_saver.save_figure(fig, \"importance_metric_comp\")"
   ]
  },
  {
   "cell_type": "markdown",
   "metadata": {},
   "source": [
    "### Table of combined importances"
   ]
  },
  {
   "cell_type": "code",
   "execution_count": null,
   "metadata": {},
   "outputs": [],
   "source": [
    "from wildfires.utils import shorten_features"
   ]
  },
  {
   "cell_type": "code",
   "execution_count": null,
   "metadata": {},
   "outputs": [],
   "source": [
    "combined_table_df = pd.DataFrame(\n",
    "    {\n",
    "        exp.name: pd.Series(shorten_features(list(map(str, combined.index))))\n",
    "        for exp, combined in combined_data.items()\n",
    "    }\n",
    ")\n",
    "combined_table_df.index = np.arange(1, 51)\n",
    "combined_table_df"
   ]
  },
  {
   "cell_type": "code",
   "execution_count": null,
   "metadata": {},
   "outputs": [],
   "source": [
    "latex_df = combined_table_df.to_latex(na_rep=\"\")\n",
    "latex_df = latex_df.replace(\"toprule\", \"tophline\")\n",
    "latex_df = latex_df.replace(\"midrule\", \"middlehline\")\n",
    "latex_df = latex_df.replace(\"bottomrule\", \"bottomhline\")\n",
    "latex_df = latex_df.replace(\"Δ\", r\"\\ensuremath{\\Delta}\")\n",
    "print(latex_df)"
   ]
  }
 ],
 "metadata": {
  "kernelspec": {
   "display_name": "Python [conda env:wildfires] *",
   "language": "python",
   "name": "conda-env-wildfires-py"
  }
 },
 "nbformat": 4,
 "nbformat_minor": 4
}
