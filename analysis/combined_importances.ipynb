{
 "cells": [
  {
   "cell_type": "code",
   "execution_count": null,
   "metadata": {},
   "outputs": [],
   "source": [
    "%run model_fitting.py --experiment ALL --experiment ALL_NN --experiment CURR local\n",
    "%run calculate_pfi.py --experiment ALL --experiment ALL_NN --experiment CURR local\n",
    "%run calculate_loco_values.py --experiment ALL --experiment ALL_NN --experiment CURR local\n",
    "%run calculate_shap_values.py --experiment ALL --experiment ALL_NN --experiment CURR local\n",
    "\n",
    "from collections import defaultdict"
   ]
  },
  {
   "cell_type": "code",
   "execution_count": null,
   "metadata": {},
   "outputs": [],
   "source": [
    "from enum import Enum\n",
    "\n",
    "import pandas as pd\n",
    "\n",
    "from empirical_fire_modelling import variable\n",
    "from empirical_fire_modelling.utils import tqdm, transform_series_sum_norm"
   ]
  },
  {
   "cell_type": "code",
   "execution_count": null,
   "metadata": {},
   "outputs": [],
   "source": [
    "gini_importances = {}\n",
    "for exp, rf in tqdm(models.items(), desc=\"Gini\"):\n",
    "    X_train, X_test, y_train, y_test = get_experiment_split_data(exp)\n",
    "\n",
    "    ind_trees_gini = pd.DataFrame(\n",
    "        [tree.feature_importances_ for tree in rf],\n",
    "        columns=X_train.columns,\n",
    "    )\n",
    "    mean_importances = ind_trees_gini.mean().sort_values(ascending=False)\n",
    "    std_importances = ind_trees_gini.std().reindex(mean_importances.index, axis=1)\n",
    "    gini_importances[exp] = pd.DataFrame(\n",
    "        {\"mean GINI\": mean_importances, \"std GINI\": std_importances}\n",
    "    )"
   ]
  },
  {
   "cell_type": "code",
   "execution_count": null,
   "metadata": {},
   "outputs": [],
   "source": [
    "Metric = Enum(\"Metric\", [\"GINI\", \"SHAP\", \"PFI\", \"LOCO\"])"
   ]
  },
  {
   "cell_type": "code",
   "execution_count": null,
   "metadata": {},
   "outputs": [],
   "source": [
    "importance_data = {\n",
    "    Metric.GINI: gini_importances,\n",
    "    Metric.SHAP: shap_importances,\n",
    "    Metric.PFI: pfi_importances,\n",
    "    Metric.LOCO: loco_importances,\n",
    "}\n",
    "importance_keys = {\n",
    "    Metric.GINI: \"mean GINI\",\n",
    "    Metric.SHAP: \"test mean SHAP\",\n",
    "    Metric.PFI: \"test weight\",\n",
    "    Metric.LOCO: \"test score\",\n",
    "}\n",
    "# std_keys = {\n",
    "#     Metric.GINI: \"std GINI\",\n",
    "#     Metric.SHAP: \"std SHAP\",\n",
    "#     Metric.PFI: \"test std\",\n",
    "#     # Note absence of LOCO std.\n",
    "# }"
   ]
  },
  {
   "cell_type": "code",
   "execution_count": null,
   "metadata": {},
   "outputs": [],
   "source": [
    "combined_data = {}\n",
    "plot_data = defaultdict(dict)\n",
    "\n",
    "for exp in tqdm(models, desc=\"Experiment\"):\n",
    "    plt.figure(figsize=(8 * importance_data[Metric.GINI][exp].shape[0] / 15, 5))\n",
    "    plt.title(exp.name)\n",
    "\n",
    "    transformed_importances = {}\n",
    "\n",
    "    # Calculation. Sort according to combined metric after normalisation.\n",
    "    combined = None\n",
    "    for importance_metric in Metric:\n",
    "        importance_s = transform_series_sum_norm(\n",
    "            importance_data[importance_metric][exp][importance_keys[importance_metric]]\n",
    "        )\n",
    "        transformed_importances[importance_metric] = importance_s\n",
    "        if combined is None:\n",
    "            combined = importance_s.copy()\n",
    "        else:\n",
    "            combined += importance_s\n",
    "    combined.sort_values(ascending=False, inplace=True)\n",
    "\n",
    "    transformed_importances = pd.DataFrame(transformed_importances).reindex(\n",
    "        combined.index, axis=0\n",
    "    )\n",
    "\n",
    "    combined.name = f\"{exp.name} (combined)\"\n",
    "    combined_data[exp] = combined.copy()\n",
    "\n",
    "    # Plotting.\n",
    "    for importance_metric in Metric:\n",
    "        transformed = transformed_importances[importance_metric]\n",
    "        transformed.index = transformed.copy().index.map(str)\n",
    "\n",
    "        plot_data[exp][importance_metric.name] = importance_metric\n",
    "\n",
    "        plt.plot(transformed, label=importance_metric.name)\n",
    "        _ = plt.setp(plt.gca().xaxis.get_majorticklabels(), rotation=45, ha=\"right\")\n",
    "    plt.legend()"
   ]
  },
  {
   "cell_type": "code",
   "execution_count": null,
   "metadata": {},
   "outputs": [],
   "source": [
    "for combined in combined_data.values():\n",
    "    print(combined)\n",
    "    print()"
   ]
  },
  {
   "cell_type": "code",
   "execution_count": null,
   "metadata": {},
   "outputs": [],
   "source": [
    "from IPython.core.display import HTML, display"
   ]
  },
  {
   "cell_type": "code",
   "execution_count": null,
   "metadata": {},
   "outputs": [],
   "source": [
    "def get_html_rep(data, name):\n",
    "    data = list(data)\n",
    "    return pd.DataFrame(\n",
    "        list(map(str, data)), columns=[name], index=list(range(1, len(data) + 1))\n",
    "    )._repr_html_()"
   ]
  },
  {
   "cell_type": "code",
   "execution_count": null,
   "metadata": {},
   "outputs": [],
   "source": [
    "print_data = []\n",
    "for exp, combined in combined_data.items():\n",
    "    veg_mask = np.array(\n",
    "        [\n",
    "            variable.match_factory(\n",
    "                var, variable.feature_categories[variable.Category.VEGETATION]\n",
    "            )\n",
    "            for var in combined.index\n",
    "        ]\n",
    "    )\n",
    "    print_data.append(\n",
    "        f\"\"\"<h1>{exp.name}</h1>\n",
    "        <h2>Top 15</h2>\n",
    "        {get_html_rep(combined.index[:15], 'Top 15')}\n",
    "        <h2>Veg Features</h2>\n",
    "        {get_html_rep(combined.index[veg_mask], 'Veg')}\n",
    "        <h2>Non-Veg Features</h2>\n",
    "        {get_html_rep(combined.index[~veg_mask], 'Non-Veg')}\n",
    "        <h2>Top 10 Non-Veg features</h2>\n",
    "        {get_html_rep(combined.index[~veg_mask][:10], 'Top 10 Non-Veg')}\"\"\"\n",
    "    )\n",
    "display(HTML(\"\".join(print_data)))"
   ]
  }
 ],
 "metadata": {
  "kernelspec": {
   "display_name": "Python [conda env:wildfires] *",
   "language": "python",
   "name": "conda-env-wildfires-py"
  }
 },
 "nbformat": 4,
 "nbformat_minor": 4
}
