{
 "cells": [
  {
   "cell_type": "code",
   "execution_count": null,
   "metadata": {},
   "outputs": [],
   "source": [
    "%run model_fitting.py local\n",
    "%run calculate_pfi.py local\n",
    "%run calculate_loco_values.py local\n",
    "%run calculate_shap_values.py local\n",
    "\n",
    "from enum import Enum"
   ]
  },
  {
   "cell_type": "code",
   "execution_count": null,
   "metadata": {},
   "outputs": [],
   "source": [
    "import pandas as pd\n",
    "\n",
    "from empirical_fire_modelling.utils import tqdm, transform_series_sum_norm"
   ]
  },
  {
   "cell_type": "code",
   "execution_count": null,
   "metadata": {},
   "outputs": [],
   "source": [
    "gini_importances = {}\n",
    "for exp, rf in tqdm(models.items(), desc=\"Gini\"):\n",
    "    X_train, X_test, y_train, y_test = get_experiment_split_data(exp)\n",
    "\n",
    "    ind_trees_gini = pd.DataFrame(\n",
    "        [tree.feature_importances_ for tree in rf],\n",
    "        columns=X_train.columns,\n",
    "    )\n",
    "    mean_importances = ind_trees_gini.mean().sort_values(ascending=False)\n",
    "    std_importances = ind_trees_gini.std().reindex(mean_importances.index, axis=1)\n",
    "    gini_importances[exp] = pd.DataFrame(\n",
    "        {\"mean GINI\": mean_importances, \"std GINI\": std_importances}\n",
    "    )"
   ]
  },
  {
   "cell_type": "code",
   "execution_count": null,
   "metadata": {},
   "outputs": [],
   "source": [
    "Metric = Enum(\"Metric\", [\"GINI\", \"SHAP\", \"PFI\", \"LOCO\"])"
   ]
  },
  {
   "cell_type": "code",
   "execution_count": null,
   "metadata": {},
   "outputs": [],
   "source": [
    "importance_data = {\n",
    "    Metric.GINI: gini_importances,\n",
    "    Metric.SHAP: shap_importances,\n",
    "    Metric.PFI: pfi_importances,\n",
    "    Metric.LOCO: loco_importances,\n",
    "}\n",
    "importance_keys = {\n",
    "    Metric.GINI: \"mean GINI\",\n",
    "    Metric.SHAP: \"mean SHAP\",\n",
    "    Metric.PFI: \"test weight\",\n",
    "    Metric.LOCO: \"test score\",\n",
    "}\n",
    "# std_keys = {\n",
    "#     Metric.GINI: \"std GINI\",\n",
    "#     Metric.SHAP: \"std SHAP\",\n",
    "#     Metric.PFI: \"test std\",\n",
    "#     # Note absence of LOCO std.\n",
    "# }"
   ]
  },
  {
   "cell_type": "code",
   "execution_count": null,
   "metadata": {},
   "outputs": [],
   "source": [
    "for exp in tqdm(Experiment, desc=\"Experiment\"):\n",
    "    plt.figure(figsize=(8 * importance_data[Metric.GINI][exp].shape[0] / 15, 5))\n",
    "    plt.title(exp.name)\n",
    "\n",
    "    transformed_importances = {}\n",
    "\n",
    "    # Calculation. Sort according to combined metric after normalisation.\n",
    "    combined = None\n",
    "    for importance_metric in Metric:\n",
    "        importance_df = transform_series_sum_norm(\n",
    "            importance_data[importance_metric][exp][importance_keys[importance_metric]]\n",
    "        )\n",
    "        transformed_importances[importance_metric] = importance_df\n",
    "        if combined is None:\n",
    "            combined = importance_df.copy()\n",
    "        else:\n",
    "            combined += importance_df\n",
    "    combined.sort_values(ascending=False, inplace=True)\n",
    "\n",
    "    transformed_importances = pd.DataFrame(transformed_importances).reindex(\n",
    "        combined.index, axis=0\n",
    "    )\n",
    "\n",
    "    # Plotting.\n",
    "    for importance_metric in Metric:\n",
    "        transformed = transformed_importances[importance_metric]\n",
    "        transformed.index = transformed.copy().index.map(str)\n",
    "        plt.plot(transformed, label=importance_metric.name)\n",
    "\n",
    "        _ = plt.setp(plt.gca().xaxis.get_majorticklabels(), rotation=45, ha=\"right\")"
   ]
  }
 ],
 "metadata": {
  "kernelspec": {
   "display_name": "Python [conda env:wildfires] *",
   "language": "python",
   "name": "conda-env-wildfires-py"
  }
 },
 "nbformat": 4,
 "nbformat_minor": 4
}
