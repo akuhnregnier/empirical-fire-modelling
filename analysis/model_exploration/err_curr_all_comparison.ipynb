{
 "cells": [
  {
   "cell_type": "code",
   "execution_count": null,
   "metadata": {},
   "outputs": [],
   "source": [
    "import logging\n",
    "import sys\n",
    "import warnings\n",
    "\n",
    "import matplotlib as mpl\n",
    "from loguru import logger as loguru_logger\n",
    "\n",
    "from empirical_fire_modelling.configuration import Experiment\n",
    "from empirical_fire_modelling.data import get_data, get_experiment_split_data\n",
    "from empirical_fire_modelling.logging_config import enable_logging\n",
    "from empirical_fire_modelling.model import get_model\n",
    "from empirical_fire_modelling.plotting import cube_plotting\n",
    "from empirical_fire_modelling.utils import get_mm_data\n",
    "\n",
    "mpl.rc_file(\"../matplotlibrc\")\n",
    "\n",
    "loguru_logger.enable(\"alepython\")\n",
    "loguru_logger.remove()\n",
    "loguru_logger.add(sys.stderr, level=\"WARNING\")\n",
    "\n",
    "logger = logging.getLogger(__name__)\n",
    "enable_logging(level=\"WARNING\")\n",
    "\n",
    "warnings.filterwarnings(\"ignore\", \".*Collapsing a non-contiguous coordinate.*\")\n",
    "warnings.filterwarnings(\"ignore\", \".*DEFAULT_SPHERICAL_EARTH_RADIUS.*\")\n",
    "warnings.filterwarnings(\"ignore\", \".*guessing contiguous bounds.*\")\n",
    "\n",
    "warnings.filterwarnings(\n",
    "    \"ignore\", 'Setting feature_perturbation = \"tree_path_dependent\".*'\n",
    ")\n",
    "\n",
    "\n",
    "def get_experiment_prediction(experiment, **kwargs):\n",
    "    \"\"\"Get out-of-sample (validation) predictions.\"\"\"\n",
    "    # Operate on cached data only.\n",
    "    get_experiment_split_data.check_in_store(experiment)\n",
    "    X_train, X_test, y_train, y_test = get_experiment_split_data(experiment)\n",
    "\n",
    "    # Operate on cached fitted models only.\n",
    "    get_model(X_train, y_train, cache_check=True)\n",
    "    model = get_model(X_train, y_train)\n",
    "\n",
    "    return model.predict(X_test)"
   ]
  },
  {
   "cell_type": "markdown",
   "metadata": {},
   "source": [
    "### Get reference data"
   ]
  },
  {
   "cell_type": "code",
   "execution_count": null,
   "metadata": {},
   "outputs": [],
   "source": [
    "(\n",
    "    endog_data,\n",
    "    exog_data,\n",
    "    master_mask,\n",
    "    masked_datasets,\n",
    "    land_mask,\n",
    ") = get_data(Experiment.CURR)"
   ]
  },
  {
   "cell_type": "markdown",
   "metadata": {},
   "source": [
    "### Get predictions"
   ]
  },
  {
   "cell_type": "code",
   "execution_count": null,
   "metadata": {},
   "outputs": [],
   "source": [
    "curr_pred = get_mm_data(get_experiment_prediction(Experiment.CURR), master_mask, \"val\")\n",
    "all_pred = get_mm_data(get_experiment_prediction(Experiment.ALL), master_mask, \"val\")"
   ]
  },
  {
   "cell_type": "markdown",
   "metadata": {},
   "source": [
    "### Compare predictions"
   ]
  },
  {
   "cell_type": "code",
   "execution_count": null,
   "metadata": {},
   "outputs": [],
   "source": [
    "X_train, X_test, y_train, y_test = get_experiment_split_data(Experiment.CURR)\n",
    "obs_ba = get_mm_data(y_test.values, master_mask, \"val\")"
   ]
  },
  {
   "cell_type": "code",
   "execution_count": null,
   "metadata": {},
   "outputs": [],
   "source": [
    "obs_ba.shape, curr_pred.shape, all_pred.shape"
   ]
  },
  {
   "cell_type": "code",
   "execution_count": null,
   "metadata": {},
   "outputs": [],
   "source": [
    "for arr in (obs_ba, curr_pred, all_pred):\n",
    "    cube_plotting(np.mean(arr, axis=0), log=True)"
   ]
  },
  {
   "cell_type": "markdown",
   "metadata": {},
   "source": [
    "### Plot errors"
   ]
  },
  {
   "cell_type": "code",
   "execution_count": null,
   "metadata": {},
   "outputs": [],
   "source": [
    "for arr in (curr_pred, all_pred):\n",
    "    cube_plotting(np.mean(arr - obs_ba, axis=0), log=True, title=\"Pred - Obs\")"
   ]
  },
  {
   "cell_type": "markdown",
   "metadata": {},
   "source": [
    "### Compare errors"
   ]
  },
  {
   "cell_type": "code",
   "execution_count": null,
   "metadata": {},
   "outputs": [],
   "source": [
    "curr_err = curr_pred - obs_ba\n",
    "all_err = all_pred - obs_ba"
   ]
  },
  {
   "cell_type": "code",
   "execution_count": null,
   "metadata": {},
   "outputs": [],
   "source": [
    "_ = cube_plotting(\n",
    "    np.mean(np.abs(curr_err) - np.abs(all_err), axis=0) / np.mean(obs_ba, axis=0),\n",
    "    title=\"<|Err(CURR)| - |Err(ALL)|> / <Ob>\",\n",
    "    fig=plt.figure(dpi=300),\n",
    "    boundaries=[-5e-1, 0, 5e-1],\n",
    ")"
   ]
  },
  {
   "cell_type": "code",
   "execution_count": null,
   "metadata": {},
   "outputs": [],
   "source": [
    "plt.hist(\n",
    "    np.mean(np.abs(curr_err) - np.abs(all_err), axis=0).ravel(),\n",
    "    bins=np.linspace(-0.2, 0.2, 80),\n",
    ")\n",
    "plt.yscale(\"log\")\n",
    "_ = plt.title(\"<|Err(CURR)| - |Err(ALL)|>\")"
   ]
  },
  {
   "cell_type": "code",
   "execution_count": null,
   "metadata": {},
   "outputs": [],
   "source": [
    "plt.hist(\n",
    "    -np.mean(np.abs(curr_err) - np.abs(all_err), axis=0).ravel(),\n",
    "    bins=np.linspace(-0.2, 0.2, 80),\n",
    "    color=\"C1\",\n",
    ")\n",
    "plt.yscale(\"log\")\n",
    "_ = plt.title(\"<|Err(CURR)| - |Err(ALL)|>\")"
   ]
  }
 ],
 "metadata": {
  "kernelspec": {
   "display_name": "Python [conda env:wildfires] *",
   "language": "python",
   "name": "conda-env-wildfires-py"
  }
 },
 "nbformat": 4,
 "nbformat_minor": 4
}
