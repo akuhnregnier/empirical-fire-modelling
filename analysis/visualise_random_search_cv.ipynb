{
 "cells": [
  {
   "cell_type": "code",
   "execution_count": null,
   "metadata": {},
   "outputs": [],
   "source": [
    "from collections import defaultdict\n",
    "\n",
    "import matplotlib.pyplot as plt\n",
    "import numpy as np\n",
    "import pandas as pd\n",
    "import seaborn as sns"
   ]
  },
  {
   "cell_type": "code",
   "execution_count": null,
   "metadata": {},
   "outputs": [],
   "source": [
    "from wildfires.dask_cx1 import CachedResults, DaskRandomForestRegressor\n",
    "\n",
    "from empirical_fire_modelling.configuration import CACHE_DIR, n_splits"
   ]
  },
  {
   "cell_type": "markdown",
   "metadata": {},
   "source": [
    "#### Load cached results"
   ]
  },
  {
   "cell_type": "code",
   "execution_count": null,
   "metadata": {},
   "outputs": [],
   "source": [
    "cached = CachedResults(\n",
    "    estimator_class=DaskRandomForestRegressor, n_splits=n_splits, cache_dir=CACHE_DIR\n",
    ")\n",
    "results = cached.collate_scores(train_scores=True)"
   ]
  },
  {
   "cell_type": "code",
   "execution_count": null,
   "metadata": {},
   "outputs": [],
   "source": [
    "cached.get_best_params()"
   ]
  },
  {
   "cell_type": "markdown",
   "metadata": {},
   "source": [
    "#### Visualise the different hyperparameter combinations"
   ]
  },
  {
   "cell_type": "code",
   "execution_count": null,
   "metadata": {},
   "outputs": [],
   "source": [
    "hyperparams = defaultdict(list)\n",
    "\n",
    "for param_tuples, param_results in results.items():\n",
    "    for category, scores in param_results.items():\n",
    "        if len(scores) == n_splits:\n",
    "            hyperparams[category].append(np.mean(scores))\n",
    "            hyperparams[category + \"_std\"].append(np.std(scores))\n",
    "        else:\n",
    "            print(param_tuples, category, len(scores))\n",
    "            break  # Do not append anything.\n",
    "    else:\n",
    "        for param, param_value in param_tuples:\n",
    "            hyperparams[param].append(param_value)"
   ]
  },
  {
   "cell_type": "code",
   "execution_count": null,
   "metadata": {},
   "outputs": [],
   "source": [
    "hyperparams = pd.DataFrame(hyperparams)\n",
    "score_keys = list(param_results)\n",
    "score_std_keys = [score_key + \"_std\" for score_key in score_keys]\n",
    "param_keys = list(set(hyperparams.columns) - set(score_keys) - set(score_std_keys))\n",
    "hyperparams.fillna(-1, inplace=True)"
   ]
  },
  {
   "cell_type": "code",
   "execution_count": null,
   "metadata": {},
   "outputs": [],
   "source": [
    "hyperparams_gap = hyperparams[hyperparams[\"test_score\"] > 0.68].copy()\n",
    "hyperparams_gap[\"gap\"] = hyperparams_gap[\"train_score\"] - hyperparams_gap[\"test_score\"]\n",
    "print(\"Nr. of params:\", len(hyperparams_gap))\n",
    "plt.plot(\n",
    "    hyperparams_gap[\"test_score\"], hyperparams_gap[\"gap\"], linestyle=\"\", marker=\"o\"\n",
    ")\n",
    "plt.xlabel(\"test score (R2)\")\n",
    "plt.ylabel(\"R2 gap\")\n",
    "plt.grid(linestyle=\"--\", alpha=0.4)\n",
    "hyperparams_gap.sort_values(by=\"gap\")"
   ]
  },
  {
   "cell_type": "code",
   "execution_count": null,
   "metadata": {},
   "outputs": [],
   "source": [
    "hyperparams.sort_values(by=\"test_score\", ascending=False)[:20]"
   ]
  },
  {
   "cell_type": "code",
   "execution_count": null,
   "metadata": {},
   "outputs": [],
   "source": [
    "_ = hyperparams.boxplot(column=score_keys, by=[\"min_samples_split\", \"n_estimators\"])"
   ]
  },
  {
   "cell_type": "code",
   "execution_count": null,
   "metadata": {},
   "outputs": [],
   "source": [
    "melted = pd.melt(\n",
    "    hyperparams[hyperparams[\"test_score\"] > 0.63].drop(columns=score_std_keys),\n",
    "    id_vars=param_keys,\n",
    "    value_vars=score_keys,\n",
    "    var_name=\"category\",\n",
    "    value_name=\"score\",\n",
    ")\n",
    "melted"
   ]
  },
  {
   "cell_type": "markdown",
   "metadata": {},
   "source": [
    "#### Visualise the effect of individual parameters"
   ]
  },
  {
   "cell_type": "code",
   "execution_count": null,
   "metadata": {},
   "outputs": [],
   "source": [
    "from alepython.ale import _sci_format\n",
    "\n",
    "for param_key in param_keys:\n",
    "    fig = plt.figure(figsize=(9, 6))\n",
    "\n",
    "    ax = sns.boxplot(x=param_key, y=\"score\", hue=\"category\", data=melted)\n",
    "    ax.set(ylabel=\"R2 Score\")\n",
    "    ax.grid(which=\"both\", alpha=0.4, linestyle=\"--\")\n",
    "\n",
    "    if param_key == \"ccp_alpha\":\n",
    "        ax.xaxis.set_ticklabels(\n",
    "            _sci_format(\n",
    "                np.array(\n",
    "                    list(map(lambda x: float(x.get_text()), ax.xaxis.get_ticklabels()))\n",
    "                )\n",
    "            )\n",
    "        )\n",
    "        ax.xaxis.set_tick_params(rotation=45)"
   ]
  },
  {
   "cell_type": "markdown",
   "metadata": {},
   "source": [
    "#### Standard deviations"
   ]
  },
  {
   "cell_type": "code",
   "execution_count": null,
   "metadata": {},
   "outputs": [],
   "source": [
    "melted_std = pd.melt(\n",
    "    hyperparams[hyperparams[\"test_score\"] > 0.63].drop(columns=score_keys),\n",
    "    id_vars=param_keys,\n",
    "    value_vars=score_std_keys,\n",
    "    var_name=\"category\",\n",
    "    value_name=\"score_std\",\n",
    ")\n",
    "melted_std"
   ]
  },
  {
   "cell_type": "code",
   "execution_count": null,
   "metadata": {},
   "outputs": [],
   "source": [
    "from alepython.ale import _sci_format\n",
    "\n",
    "for param_key in param_keys:\n",
    "    fig = plt.figure(figsize=(9, 6))\n",
    "\n",
    "    ax = sns.boxplot(x=param_key, y=\"score_std\", hue=\"category\", data=melted_std)\n",
    "    ax.set(ylabel=\"R2 Score\")\n",
    "    ax.grid(which=\"both\", alpha=0.4, linestyle=\"--\")\n",
    "\n",
    "    if param_key == \"ccp_alpha\":\n",
    "        ax.xaxis.set_ticklabels(\n",
    "            _sci_format(\n",
    "                np.array(\n",
    "                    list(map(lambda x: float(x.get_text()), ax.xaxis.get_ticklabels()))\n",
    "                )\n",
    "            )\n",
    "        )\n",
    "        ax.xaxis.set_tick_params(rotation=45)"
   ]
  }
 ],
 "metadata": {
  "kernelspec": {
   "display_name": "Python [conda env:wildfires] *",
   "language": "python",
   "name": "conda-env-wildfires-py"
  }
 },
 "nbformat": 4,
 "nbformat_minor": 4
}
