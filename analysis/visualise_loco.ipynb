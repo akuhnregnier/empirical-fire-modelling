{
 "cells": [
  {
   "cell_type": "code",
   "execution_count": null,
   "metadata": {},
   "outputs": [],
   "source": [
    "%run calculate_loco_values.py local\n",
    "\n",
    "from operator import methodcaller"
   ]
  },
  {
   "cell_type": "code",
   "execution_count": null,
   "metadata": {},
   "outputs": [],
   "source": [
    "from empirical_fire_modelling.utils import tqdm"
   ]
  },
  {
   "cell_type": "code",
   "execution_count": null,
   "metadata": {},
   "outputs": [],
   "source": [
    "def plot_loco(exp_name, df):\n",
    "    df.index = df.copy().index.map(str)\n",
    "\n",
    "    fig, ax = plt.subplots(1, 1, figsize=(6 * df.shape[0] / 15, 3))\n",
    "    fig.suptitle(exp_name)\n",
    "    lines = []\n",
    "    for s in [\"train\", \"test\"]:\n",
    "        key = f\"{s} score\"\n",
    "        lines.extend(ax.plot(df[key], label=key))\n",
    "\n",
    "    ax2 = ax.twinx()\n",
    "    for s, c in zip([\"train\", \"test\"], [\"C2\", \"C3\"]):\n",
    "        key = f\"{s} mse\"\n",
    "        lines.extend(ax2.plot(df[key], c=c, label=key))\n",
    "\n",
    "    legend = ax2.legend(\n",
    "        lines, list(map(methodcaller(\"get_label\"), lines)), loc=\"center left\"\n",
    "    )\n",
    "\n",
    "    score_color = \"tab:red\"\n",
    "    mse_color = \"tab:blue\"\n",
    "    ax.set_ylabel(\"score\", color=score_color)\n",
    "    ax.tick_params(axis=\"y\", labelcolor=score_color)\n",
    "    ax2.set_ylabel(\"mse\", color=mse_color)\n",
    "    ax2.tick_params(axis=\"y\", labelcolor=mse_color)\n",
    "\n",
    "    _ = plt.setp(ax.xaxis.get_majorticklabels(), rotation=45, ha=\"right\")"
   ]
  },
  {
   "cell_type": "code",
   "execution_count": null,
   "metadata": {},
   "outputs": [],
   "source": [
    "for exp, df in tqdm(loco_importances.items()):\n",
    "    plot_loco(exp.name, df)"
   ]
  }
 ],
 "metadata": {
  "kernelspec": {
   "display_name": "Python [conda env:wildfires] *",
   "language": "python",
   "name": "conda-env-wildfires-py"
  }
 },
 "nbformat": 4,
 "nbformat_minor": 4
}
