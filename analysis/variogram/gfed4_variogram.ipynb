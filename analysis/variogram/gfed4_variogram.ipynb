{
 "cells": [
  {
   "cell_type": "code",
   "execution_count": null,
   "metadata": {},
   "outputs": [],
   "source": [
    "import iris\n",
    "import numpy as np\n",
    "from wildfires.analysis import cube_plotting\n",
    "from wildfires.data import GFEDv4\n",
    "from wildfires.utils import ensure_datetime, get_land_mask\n",
    "from wildfires.variogram import plot_variogram\n",
    "\n",
    "from empirical_fire_modelling.utils import tqdm"
   ]
  },
  {
   "cell_type": "code",
   "execution_count": null,
   "metadata": {},
   "outputs": [],
   "source": [
    "cube = GFEDv4().cube[0]\n",
    "_ = cube_plotting(\n",
    "    np.sqrt(iris.analysis.cartography.area_weights(cube)) / 1000,\n",
    "    colorbar_kwargs={\"label\": \"approx. cell size (km)\"},\n",
    ")"
   ]
  },
  {
   "cell_type": "code",
   "execution_count": null,
   "metadata": {},
   "outputs": [],
   "source": [
    "def gfed4_variogram(i):\n",
    "    gfed4 = GFEDv4()\n",
    "    if i == -1:\n",
    "        title = \"Mean GFED4 BA\"\n",
    "        ba = gfed4.get_mean_dataset().cube\n",
    "    else:\n",
    "        ba = gfed4.cube[i]\n",
    "        title = f\"GFED4 BA {ensure_datetime(ba.coord('time').cell(0).point):%Y-%m}\"\n",
    "\n",
    "    ba.data.mask = ~get_land_mask()\n",
    "\n",
    "    latitudes = ba.coord(\"latitude\").points\n",
    "    longitudes = ba.coord(\"longitude\").points\n",
    "\n",
    "    coords = []\n",
    "    for lon in longitudes:\n",
    "        for lat in latitudes:\n",
    "            coords.append((lat, lon))\n",
    "    coords = np.array(coords)\n",
    "    ba_flat = ba.data.ravel()\n",
    "\n",
    "    # Choose random indices.\n",
    "    valid_indices = np.where(~ba.data.mask.ravel())[0]\n",
    "    # inds = np.random.default_rng(0).choice(valid_indices, size=(4000,))\n",
    "    inds = valid_indices\n",
    "\n",
    "    # print(f\"Max N:    {valid_indices.shape[0]:>10d}\")\n",
    "    # print(f\"Chosen N: {inds.shape[0]:>10d}\")\n",
    "\n",
    "    fig, ax1, ax2 = plot_variogram(\n",
    "        coords[inds],\n",
    "        ba_flat.data[inds],\n",
    "        bins=50,\n",
    "        max_lag=2000,\n",
    "        n_jobs=32,\n",
    "        n_per_job=6000,\n",
    "        verbose=True,\n",
    "    )\n",
    "\n",
    "    fig.suptitle(f\"{title}, {inds.shape[0]} samples (out of {valid_indices.shape[0]})\")\n",
    "    ax1.set_ylabel(\"semivariance\")\n",
    "    ax2.set_ylabel(\"N\")\n",
    "    ax2.set_yscale(\"log\")\n",
    "    ax1.set_xlabel(\"Lag (km)\")"
   ]
  },
  {
   "cell_type": "code",
   "execution_count": null,
   "metadata": {},
   "outputs": [],
   "source": [
    "for i in tqdm(range(-1, 2)):\n",
    "    gfed4_variogram(i)"
   ]
  },
  {
   "cell_type": "code",
   "execution_count": null,
   "metadata": {},
   "outputs": [],
   "source": [
    "for i in tqdm(range(-1, 36)):\n",
    "    gfed4_variogram(i)"
   ]
  }
 ],
 "metadata": {
  "kernelspec": {
   "display_name": "Python [conda env:wildfires] *",
   "language": "python",
   "name": "conda-env-wildfires-py"
  }
 },
 "nbformat": 4,
 "nbformat_minor": 4
}
