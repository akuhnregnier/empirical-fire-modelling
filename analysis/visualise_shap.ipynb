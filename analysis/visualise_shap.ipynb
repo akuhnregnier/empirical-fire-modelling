{
 "cells": [
  {
   "cell_type": "code",
   "execution_count": null,
   "metadata": {},
   "outputs": [],
   "source": [
    "%run calculate_shap_values.py local"
   ]
  },
  {
   "cell_type": "code",
   "execution_count": null,
   "metadata": {},
   "outputs": [],
   "source": [
    "from empirical_fire_modelling.utils import tqdm"
   ]
  },
  {
   "cell_type": "code",
   "execution_count": null,
   "metadata": {},
   "outputs": [],
   "source": [
    "def shap_plot(exp_name, df):\n",
    "    fig, ax = plt.subplots(1, 1, figsize=(6 * df.shape[0] / 15, 3))\n",
    "    fig.suptitle(exp_name)\n",
    "    ax.errorbar(df.index, df[\"mean SHAP\"], yerr=df[\"std SHAP\"], capsize=6)\n",
    "    ax.legend()\n",
    "    _ = plt.setp(ax.xaxis.get_majorticklabels(), rotation=45, ha=\"right\")"
   ]
  },
  {
   "cell_type": "code",
   "execution_count": null,
   "metadata": {},
   "outputs": [],
   "source": [
    "for exp, df in tqdm(shap_importances.items()):\n",
    "    shap_plot(exp.name, df)"
   ]
  }
 ],
 "metadata": {
  "kernelspec": {
   "display_name": "Python [conda env:wildfires] *",
   "language": "python",
   "name": "conda-env-wildfires-py"
  }
 },
 "nbformat": 4,
 "nbformat_minor": 4
}
