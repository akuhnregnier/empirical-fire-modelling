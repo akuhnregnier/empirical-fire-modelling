{
 "cells": [
  {
   "cell_type": "code",
   "execution_count": null,
   "metadata": {},
   "outputs": [],
   "source": [
    "%run calculate_shap_values.py --experiment ALL --experiment ALL_NN --experiment CURR local"
   ]
  },
  {
   "cell_type": "code",
   "execution_count": null,
   "metadata": {},
   "outputs": [],
   "source": [
    "from empirical_fire_modelling.utils import tqdm"
   ]
  },
  {
   "cell_type": "code",
   "execution_count": null,
   "metadata": {},
   "outputs": [],
   "source": [
    "def shap_plot(exp_name, df):\n",
    "    fig, ax = plt.subplots(1, 1, figsize=(6 * df.shape[0] / 15, 3))\n",
    "    fig.suptitle(exp_name)\n",
    "    ax.errorbar(\n",
    "        list(map(str, df.index)),\n",
    "        df[\"train mean SHAP\"],\n",
    "        yerr=df[\"train std SHAP\"],\n",
    "        capsize=6,\n",
    "        label=\"train\",\n",
    "    )\n",
    "    ax.errorbar(\n",
    "        list(map(str, df.index)),\n",
    "        df[\"test mean SHAP\"],\n",
    "        yerr=df[\"test std SHAP\"],\n",
    "        capsize=6,\n",
    "        label=\"test\",\n",
    "    )\n",
    "    ax.legend()\n",
    "    _ = plt.setp(ax.xaxis.get_majorticklabels(), rotation=45, ha=\"right\")"
   ]
  },
  {
   "cell_type": "code",
   "execution_count": null,
   "metadata": {},
   "outputs": [],
   "source": [
    "for exp, df in tqdm(shap_importances.items()):\n",
    "    shap_plot(exp.name, df)"
   ]
  }
 ],
 "metadata": {
  "kernelspec": {
   "display_name": "Python [conda env:wildfires] *",
   "language": "python",
   "name": "conda-env-wildfires-py"
  }
 },
 "nbformat": 4,
 "nbformat_minor": 4
}
