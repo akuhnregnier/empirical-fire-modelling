{
 "cells": [
  {
   "cell_type": "code",
   "execution_count": null,
   "metadata": {},
   "outputs": [],
   "source": [
    "%run calculate_shap_values.py local"
   ]
  },
  {
   "cell_type": "code",
   "execution_count": null,
   "metadata": {},
   "outputs": [],
   "source": [
    "X_train = get_experiment_split_data(Experiment.ALL)[0]"
   ]
  },
  {
   "cell_type": "code",
   "execution_count": null,
   "metadata": {},
   "outputs": [],
   "source": [
    "X_train.shape[0]"
   ]
  },
  {
   "cell_type": "code",
   "execution_count": null,
   "metadata": {},
   "outputs": [],
   "source": [
    "from empirical_fire_modelling.configuration import shap_job_samples"
   ]
  },
  {
   "cell_type": "code",
   "execution_count": null,
   "metadata": {},
   "outputs": [],
   "source": [
    "shap_job_samples"
   ]
  },
  {
   "cell_type": "code",
   "execution_count": null,
   "metadata": {},
   "outputs": [],
   "source": [
    "X_train.shape[0] / shap_job_samples"
   ]
  },
  {
   "cell_type": "code",
   "execution_count": null,
   "metadata": {},
   "outputs": [],
   "source": [
    "shap_params"
   ]
  },
  {
   "cell_type": "code",
   "execution_count": null,
   "metadata": {},
   "outputs": [],
   "source": [
    "list(zip(*args))[350]"
   ]
  },
  {
   "cell_type": "code",
   "execution_count": null,
   "metadata": {},
   "outputs": [],
   "source": [
    "import pandas as pd\n",
    "\n",
    "from empirical_fire_modelling.utils import tqdm"
   ]
  },
  {
   "cell_type": "code",
   "execution_count": null,
   "metadata": {},
   "outputs": [],
   "source": [
    "next(iter(joined_data.values())).shape"
   ]
  },
  {
   "cell_type": "code",
   "execution_count": null,
   "metadata": {},
   "outputs": [],
   "source": [
    "shap_dfs = {}\n",
    "for exp, shap_arr in tqdm(joined_data.items()):\n",
    "    X_train, X_test, y_train, y_test = get_experiment_split_data(exp)\n",
    "    abs_shap_values = np.abs(shap_arr)\n",
    "    agg_df = pd.DataFrame(\n",
    "        {\n",
    "            \"mean SHAP\": np.mean(abs_shap_values, axis=0),\n",
    "            \"std SHAP\": np.std(abs_shap_values, axis=0),\n",
    "        },\n",
    "        index=map(str, X_train.columns),\n",
    "    )\n",
    "    shap_dfs[exp.name] = agg_df.sort_values(\"mean SHAP\", ascending=False)"
   ]
  },
  {
   "cell_type": "code",
   "execution_count": null,
   "metadata": {},
   "outputs": [],
   "source": [
    "def shap_plot(exp_name, df):\n",
    "    fig, ax = plt.subplots(1, 1, figsize=(6, 3))\n",
    "    fig.suptitle(exp_name)\n",
    "    ax.errorbar(df.index, df[\"mean SHAP\"], yerr=df[\"std SHAP\"], capsize=10)\n",
    "    ax.legend()\n",
    "    _ = plt.setp(ax.xaxis.get_majorticklabels(), rotation=45, ha=\"right\")"
   ]
  },
  {
   "cell_type": "code",
   "execution_count": null,
   "metadata": {},
   "outputs": [],
   "source": [
    "for exp_name, df in tqdm(shap_dfs.items()):\n",
    "    shap_plot(exp_name, df)"
   ]
  }
 ],
 "metadata": {
  "kernelspec": {
   "display_name": "Python [conda env:wildfires] *",
   "language": "python",
   "name": "conda-env-wildfires-py"
  }
 },
 "nbformat": 4,
 "nbformat_minor": 4
}
