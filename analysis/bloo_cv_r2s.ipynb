{
 "cells": [
  {
   "cell_type": "code",
   "execution_count": null,
   "metadata": {},
   "outputs": [],
   "source": [
    "%run buffered_leave_one_out.py -v --nargs 1 --experiment 15VEG_FAPAR local"
   ]
  },
  {
   "cell_type": "code",
   "execution_count": null,
   "metadata": {},
   "outputs": [],
   "source": [
    "from wildfires.analysis import cube_plotting\n",
    "\n",
    "master_mask = np.zeros((720, 1440), dtype=np.bool_)\n",
    "lat_inds = np.arange(720).reshape(-1, 1)\n",
    "lon_inds = np.arange(1440).reshape(1, -1)\n",
    "\n",
    "vis_rad = 10\n",
    "\n",
    "for result in results:\n",
    "    master_mask[\n",
    "        (((lat_inds - result[0][0][0]) ** 2 + (lon_inds - result[0][0][1]) ** 2) ** 0.5)\n",
    "        < vis_rad\n",
    "    ] = True\n",
    "\n",
    "fig = cube_plotting(master_mask)"
   ]
  },
  {
   "cell_type": "code",
   "execution_count": null,
   "metadata": {},
   "outputs": [],
   "source": [
    "from collections import defaultdict\n",
    "from operator import itemgetter\n",
    "\n",
    "from sklearn.metrics import r2_score"
   ]
  },
  {
   "cell_type": "code",
   "execution_count": null,
   "metadata": {},
   "outputs": [],
   "source": [
    "len(args[0]) / len(experiments)"
   ]
  },
  {
   "cell_type": "code",
   "execution_count": null,
   "metadata": {},
   "outputs": [],
   "source": [
    "len(experiments)"
   ]
  },
  {
   "cell_type": "code",
   "execution_count": null,
   "metadata": {},
   "outputs": [],
   "source": [
    "data = defaultdict(list)\n",
    "# assert len(results) == len(args[0])\n",
    "\n",
    "n_seed_bins = 3\n",
    "seed_bins = np.linspace(0, 1000, n_seed_bins + 1, dtype=np.int64)\n",
    "\n",
    "for i in range(len(results)):\n",
    "    experiment, radius, max_rad, seed = map(itemgetter(i % 8000), args)\n",
    "    (\n",
    "        (test_indices, n_ignored, n_train, n_hold_out, total_samples),\n",
    "        test_y,\n",
    "        pred_y,\n",
    "    ) = results[i]\n",
    "\n",
    "    seed_index = np.digitize(seed, seed_bins)\n",
    "\n",
    "    data[(radius, \"n_ignored\")].append(n_ignored)\n",
    "    data[(radius, \"n_train\")].append(n_train)\n",
    "    data[(radius, \"n_hold_out\")].append(n_hold_out)\n",
    "    data[(radius, \"total_samples\")].append(total_samples)\n",
    "    data[(seed_index, radius, \"test_y\")].append(np.array(test_y).ravel())\n",
    "    data[(seed_index, radius, \"pred_y\")].append(np.array(pred_y).ravel())"
   ]
  },
  {
   "cell_type": "code",
   "execution_count": null,
   "metadata": {},
   "outputs": [],
   "source": [
    "keys = tuple(k for k in data if len(k) == 3)\n",
    "seed_indices = tuple(sorted(set(map(itemgetter(0), keys))))\n",
    "radii = tuple(sorted(set(map(itemgetter(1), keys))))\n",
    "seed_indices, radii"
   ]
  },
  {
   "cell_type": "code",
   "execution_count": null,
   "metadata": {},
   "outputs": [],
   "source": [
    "seed_r2s = [[] for _ in seed_indices]\n",
    "for seed_i, seed_index in enumerate(seed_indices):\n",
    "    for i, radius in enumerate(radii):\n",
    "        test_y = np.array(data[(seed_index, radii[i], \"test_y\")]).ravel()\n",
    "        pred_y = np.array(data[(seed_index, radii[i], \"pred_y\")]).ravel()\n",
    "        seed_r2s[seed_i].append(r2_score(y_true=test_y, y_pred=pred_y))\n",
    "\n",
    "plt.figure(dpi=200)\n",
    "plt.title(experiment.name)\n",
    "for seed_index, r2s in zip(seed_indices, seed_r2s):\n",
    "    plt.plot(np.array(radii) * 30, r2s, label=f\"Seed bin: {seed_index}\")\n",
    "\n",
    "plt.legend()\n",
    "plt.xlabel(\"radius (approx. km)\")\n",
    "_ = plt.ylabel(r\"CV $\\mathrm{R}^2$\")"
   ]
  },
  {
   "cell_type": "code",
   "execution_count": null,
   "metadata": {},
   "outputs": [],
   "source": [
    "seed_r2s = [[] for _ in seed_indices]\n",
    "for seed_i, seed_index in enumerate(seed_indices):\n",
    "    for i, radius in enumerate(radii):\n",
    "        test_y = np.array(data[(seed_index, radii[i], \"test_y\")]).ravel()\n",
    "        pred_y = np.array(data[(seed_index, radii[i], \"pred_y\")]).ravel()\n",
    "        seed_r2s[seed_i].append(r2_score(y_true=test_y, y_pred=pred_y))\n",
    "\n",
    "plt.figure(dpi=200)\n",
    "plt.title(experiment.name)\n",
    "for seed_index, r2s in zip(seed_indices, seed_r2s):\n",
    "    plt.plot(np.array(radii), r2s, label=f\"Seed bin: {seed_index}\")\n",
    "\n",
    "plt.legend()\n",
    "plt.xlabel(\"radius (pixels)\")\n",
    "_ = plt.ylabel(r\"CV $\\mathrm{R}^2$\")"
   ]
  }
 ],
 "metadata": {
  "kernelspec": {
   "display_name": "Python [conda env:wildfires] *",
   "language": "python",
   "name": "conda-env-wildfires-py"
  }
 },
 "nbformat": 4,
 "nbformat_minor": 4
}
