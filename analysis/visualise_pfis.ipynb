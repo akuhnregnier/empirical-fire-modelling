{
 "cells": [
  {
   "cell_type": "code",
   "execution_count": null,
   "metadata": {},
   "outputs": [],
   "source": [
    "%run calculate_pfi.py local"
   ]
  },
  {
   "cell_type": "code",
   "execution_count": null,
   "metadata": {},
   "outputs": [],
   "source": [
    "from empirical_fire_modelling.utils import tqdm"
   ]
  },
  {
   "cell_type": "code",
   "execution_count": null,
   "metadata": {},
   "outputs": [],
   "source": [
    "next(iter((vis_df.groupby(\"experiment\"))))[1].droplevel()"
   ]
  },
  {
   "cell_type": "code",
   "execution_count": null,
   "metadata": {},
   "outputs": [],
   "source": [
    "def plot_pfi(exp_name, df):\n",
    "    fig, ax = plt.subplots(1, 1, figsize=(6, 3))\n",
    "    fig.suptitle(exp_name)\n",
    "    df.index = df.index.droplevel(\"experiment\")\n",
    "\n",
    "    df = df.sort_values(\"test weight\", ascending=False)\n",
    "\n",
    "    for s in [\"train\", \"test\"]:\n",
    "        ax.errorbar(\n",
    "            df.index, df[f\"{s} weight\"], yerr=df[f\"{s} std\"], capsize=10, label=s\n",
    "        )\n",
    "    ax.legend()\n",
    "    _ = plt.setp(ax.xaxis.get_majorticklabels(), rotation=45, ha=\"right\")"
   ]
  },
  {
   "cell_type": "code",
   "execution_count": null,
   "metadata": {},
   "outputs": [],
   "source": [
    "for exp_name, df in tqdm(vis_df.groupby(\"experiment\")):\n",
    "    plot_pfi(exp_name, df)"
   ]
  }
 ],
 "metadata": {
  "kernelspec": {
   "display_name": "Python [conda env:wildfires] *",
   "language": "python",
   "name": "conda-env-wildfires-py"
  }
 },
 "nbformat": 4,
 "nbformat_minor": 4
}
