{
 "cells": [
  {
   "cell_type": "code",
   "execution_count": null,
   "metadata": {},
   "outputs": [],
   "source": [
    "%run calculate_pfi.py --experiment ALL --experiment ALL_NN --experiment CURR local"
   ]
  },
  {
   "cell_type": "code",
   "execution_count": null,
   "metadata": {},
   "outputs": [],
   "source": [
    "from empirical_fire_modelling.utils import tqdm"
   ]
  },
  {
   "cell_type": "code",
   "execution_count": null,
   "metadata": {},
   "outputs": [],
   "source": [
    "def plot_pfi(exp_name, df):\n",
    "    fig, ax = plt.subplots(1, 1, figsize=(6 * df.shape[0] / 15, 3))\n",
    "    fig.suptitle(exp_name)\n",
    "\n",
    "    for s in [\"train\", \"test\"]:\n",
    "        ax.errorbar(\n",
    "            df.index.map(str),\n",
    "            df[f\"{s} weight\"],\n",
    "            yerr=df[f\"{s} std\"],\n",
    "            capsize=6,\n",
    "            label=s,\n",
    "        )\n",
    "    ax.legend()\n",
    "    _ = plt.setp(ax.xaxis.get_majorticklabels(), rotation=45, ha=\"right\")"
   ]
  },
  {
   "cell_type": "code",
   "execution_count": null,
   "metadata": {},
   "outputs": [],
   "source": [
    "for exp, df in tqdm(pfi_importances.items()):\n",
    "    plot_pfi(exp.name, df)"
   ]
  }
 ],
 "metadata": {
  "kernelspec": {
   "display_name": "Python [conda env:wildfires] *",
   "language": "python",
   "name": "conda-env-wildfires-py"
  }
 },
 "nbformat": 4,
 "nbformat_minor": 4
}
