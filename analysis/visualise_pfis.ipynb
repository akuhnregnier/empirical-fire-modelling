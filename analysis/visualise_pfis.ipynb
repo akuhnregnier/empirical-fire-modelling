{
 "cells": [
  {
   "cell_type": "code",
   "execution_count": null,
   "metadata": {},
   "outputs": [],
   "source": [
    "%run calculate_pfi.py --experiment ALL --experiment ALL_NN --experiment CURR --experiment 15VEG_FAPAR local"
   ]
  },
  {
   "cell_type": "code",
   "execution_count": null,
   "metadata": {},
   "outputs": [],
   "source": [
    "from empirical_fire_modelling.plotting import figure_saver\n",
    "from empirical_fire_modelling.utils import tqdm"
   ]
  },
  {
   "cell_type": "code",
   "execution_count": null,
   "metadata": {},
   "outputs": [],
   "source": [
    "def plot_pfi(exp_name, df):\n",
    "    fig, ax = plt.subplots(1, 1, figsize=(6 * df.shape[0] / 15, 3))\n",
    "    # fig.suptitle(exp_name)\n",
    "\n",
    "    for s in [\"train\", \"test\"]:\n",
    "        ax.errorbar(\n",
    "            df.index.map(str),\n",
    "            df[f\"{s} weight\"],\n",
    "            yerr=df[f\"{s} std\"],\n",
    "            capsize=6,\n",
    "            label=s,\n",
    "        )\n",
    "    ax.legend()\n",
    "    _ = plt.setp(ax.xaxis.get_majorticklabels(), rotation=45, ha=\"right\")\n",
    "\n",
    "    # ax.set_xlabel('Variable')\n",
    "    ax.set_ylabel(\"PFI Importance\")\n",
    "\n",
    "    return fig, ax"
   ]
  },
  {
   "cell_type": "code",
   "execution_count": null,
   "metadata": {},
   "outputs": [],
   "source": [
    "for exp, df in tqdm(pfi_importances.items()):\n",
    "    fig, ax = plot_pfi(exp.name, df)\n",
    "    figure_saver(sub_directory=exp.name).save_figure(fig, f\"{exp.name}_PFI_train_test\")"
   ]
  }
 ],
 "metadata": {
  "kernelspec": {
   "display_name": "Python [conda env:wildfires] *",
   "language": "python",
   "name": "conda-env-wildfires-py"
  }
 },
 "nbformat": 4,
 "nbformat_minor": 4
}
