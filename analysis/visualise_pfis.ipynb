{
 "cells": [
  {
   "cell_type": "code",
   "execution_count": null,
   "metadata": {},
   "outputs": [],
   "source": [
    "%run calculate_pfi.py --experiment ALL --experiment ALL_NN --experiment CURR --experiment 15VEG_FAPAR local\n",
    "\n",
    "import gc"
   ]
  },
  {
   "cell_type": "code",
   "execution_count": null,
   "metadata": {},
   "outputs": [],
   "source": [
    "import matplotlib as mpl\n",
    "from wildfires.utils import shorten_features\n",
    "\n",
    "from empirical_fire_modelling.plotting import figure_saver\n",
    "from empirical_fire_modelling.utils import tqdm\n",
    "\n",
    "gc.collect()\n",
    "\n",
    "mpl.rc(\"matplotlibrc\")"
   ]
  },
  {
   "cell_type": "code",
   "execution_count": null,
   "metadata": {},
   "outputs": [],
   "source": [
    "def plot_pfi(exp_name, df):\n",
    "    fig, ax = plt.subplots(1, 1, figsize=(6 * df.shape[0] / 15, 3))\n",
    "    # fig.suptitle(exp_name)\n",
    "\n",
    "    for s in [\"train\", \"test\"]:\n",
    "        ax.errorbar(\n",
    "            df.index.map(lambda s: shorten_features(str(s))),\n",
    "            df[f\"{s} weight\"],\n",
    "            yerr=df[f\"{s} std\"],\n",
    "            capsize=6,\n",
    "            label={\"test\": \"validation\"}.get(s, s),\n",
    "        )\n",
    "    ax.legend()\n",
    "    _ = plt.setp(ax.xaxis.get_majorticklabels(), rotation=45, ha=\"right\")\n",
    "\n",
    "    # ax.set_xlabel('Variable')\n",
    "    ax.set_ylabel(\"PFI Importance\")\n",
    "\n",
    "    return fig, ax"
   ]
  },
  {
   "cell_type": "code",
   "execution_count": null,
   "metadata": {},
   "outputs": [],
   "source": [
    "for exp, df in tqdm(pfi_importances.items()):\n",
    "    fig, ax = plot_pfi(exp.name, df)\n",
    "    figure_saver(sub_directory=exp.name).save_figure(fig, f\"{exp.name}_PFI_train_test\")"
   ]
  }
 ],
 "metadata": {
  "kernelspec": {
   "display_name": "Python [conda env:wildfires] *",
   "language": "python",
   "name": "conda-env-wildfires-py"
  }
 },
 "nbformat": 4,
 "nbformat_minor": 4
}
