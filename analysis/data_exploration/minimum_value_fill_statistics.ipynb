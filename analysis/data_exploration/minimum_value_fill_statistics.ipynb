{
 "cells": [
  {
   "cell_type": "code",
   "execution_count": null,
   "metadata": {},
   "outputs": [],
   "source": [
    "import calendar\n",
    "\n",
    "import iris\n",
    "import numpy as np\n",
    "from iris.time import PartialDateTime\n",
    "from wildfires.analysis import *"
   ]
  },
  {
   "cell_type": "code",
   "execution_count": null,
   "metadata": {},
   "outputs": [],
   "source": [
    "from wildfires.data import *\n",
    "from wildfires.utils import *\n",
    "\n",
    "from empirical_fire_modelling.utils import tqdm"
   ]
  },
  {
   "cell_type": "code",
   "execution_count": null,
   "metadata": {},
   "outputs": [],
   "source": [
    "def _persistent_gap_filling(cube, thres=0.5, verbose=False):\n",
    "    \"\"\"Fill gaps >= (thres * 100)% of months with minimum value at that location.\n",
    "\n",
    "    This is done in-place.\n",
    "\n",
    "    \"\"\"\n",
    "    if not cube.coords(\"month_number\"):\n",
    "        iris.coord_categorisation.add_month_number(cube, \"time\")\n",
    "\n",
    "    combined_mask = np.all(cube.data.mask, axis=0)\n",
    "\n",
    "    nr_inval_cube = cube.copy(\n",
    "        data=np.ma.MaskedArray(\n",
    "            cube.data.mask, mask=match_shape(combined_mask, cube.shape)\n",
    "        )\n",
    "    )\n",
    "\n",
    "    min_cube = cube.collapsed(\"time\", iris.analysis.MIN)\n",
    "\n",
    "    # Month numbers in [1, 12].\n",
    "    month_numbers = cube.coord(\"month_number\").points\n",
    "\n",
    "    fill_masks = {}\n",
    "\n",
    "    for month_number in tqdm(range(1, 13), desc=\"Months\", disable=not verbose):\n",
    "        extracted = iris.Constraint(month_number=month_number).extract(nr_inval_cube)\n",
    "        missing_frac = np.sum(extracted.data, axis=0) / extracted.shape[0]\n",
    "        persistent = ((missing_frac + 1e-5) >= thres).data\n",
    "        persistent[combined_mask] = False\n",
    "\n",
    "        fill_masks[month_number] = []\n",
    "\n",
    "        for month_index in np.where(month_numbers == month_number)[0]:\n",
    "            month_data = cube.data[month_index]\n",
    "\n",
    "            fill_mask = persistent & cube.data.mask[month_index]\n",
    "            month_data[fill_mask] = min_cube.data[fill_mask]\n",
    "\n",
    "            cube.data[month_index] = month_data\n",
    "\n",
    "            fill_masks[month_number].append(fill_mask)\n",
    "\n",
    "    return cube, fill_masks"
   ]
  },
  {
   "cell_type": "markdown",
   "metadata": {},
   "source": [
    "### Test how many times filling is done for each month"
   ]
  },
  {
   "cell_type": "code",
   "execution_count": null,
   "metadata": {},
   "outputs": [],
   "source": [
    "for dataset, var_name in [\n",
    "    (Ext_MOD15A2H_fPAR(), \"FAPAR\"),\n",
    "]:\n",
    "    selected_d = Datasets(dataset).select_variables(var_name).dataset\n",
    "    selected_d.limit_months(\n",
    "        PartialDateTime(year=2008, month=1), PartialDateTime(year=2015, month=4)\n",
    "    )\n",
    "    cube = selected_d.cube\n",
    "    assert cube.shape[0] > 10\n",
    "    filled, fill_masks = _persistent_gap_filling(cube, verbose=True)\n",
    "    fill_masks_sum = {\n",
    "        month_number: np.vstack([data[None] for data in fill_masks[month_number]]).mean(\n",
    "            axis=0\n",
    "        )\n",
    "        for month_number in fill_masks\n",
    "    }\n",
    "    for month_number in fill_masks_sum:\n",
    "        cube_plotting(\n",
    "            fill_masks_sum[month_number],\n",
    "            title=f\"Fraction Nr. filled for {var_name} {calendar.month_abbr[month_number]}\",\n",
    "        )"
   ]
  }
 ],
 "metadata": {
  "kernelspec": {
   "display_name": "Python [conda env:wildfires] *",
   "language": "python",
   "name": "conda-env-wildfires-py"
  }
 },
 "nbformat": 4,
 "nbformat_minor": 4
}
